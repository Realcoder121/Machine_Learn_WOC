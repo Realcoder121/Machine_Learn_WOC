{
  "cells": [
    {
      "cell_type": "code",
      "execution_count": 3,
      "metadata": {
        "id": "8Mnle-QElVlh"
      },
      "outputs": [],
      "source": [
        "import numpy as np\n",
        "import pandas as pd\n",
        "import matplotlib.pyplot as plt\n",
        "import math\n",
        "from math import sqrt\n"
      ]
    },
    {
      "cell_type": "code",
      "execution_count": 4,
      "metadata": {
        "id": "eXZJso6wln4_"
      },
      "outputs": [],
      "source": [
        "def sigmoid(a):\n",
        "    a = 1/(1+(math.e)**(-a))\n",
        "    return a \n",
        "sigmoid_mat = np.vectorize(sigmoid) # vectorizing sigmoid function so that it applies to all the elements of a matrix\n",
        "\n",
        "def log(a):\n",
        "    a = math.log10(a)\n",
        "    return(a)\n",
        "log_mat = np.vectorize(log) # vectorizing log function \n",
        "\n",
        "def ln(a):\n",
        "    a = math.log(a)\n",
        "    return(a)\n",
        "ln_mat = np.vectorize(ln)\n",
        "\n",
        "def pro(x,y):\n",
        "  return(np.matmul(x,y)) # calc the matrix product of x and y"
      ]
    },
    {
      "cell_type": "code",
      "execution_count": 6,
      "metadata": {
        "id": "RlUeMW16loUK"
      },
      "outputs": [],
      "source": [
        "def clean_dataset(Df):\n",
        "  train_np = Df.to_numpy()\n",
        "  m = np.shape(train_np)[0] # no of training examples\n",
        "  n = np.shape(train_np)[1] \n",
        "  y = train_np[:,0]\n",
        "  y = y.reshape(m,1) # label vector\n",
        "  x = train_np[:,1:n]\n",
        "  x = np.concatenate((np.ones((m,1)),x),axis=1)\n",
        "  for i in range(1,n):\n",
        "     min_col = np.min(x[:,i])\n",
        "     max_col = np.max(x[:,i])\n",
        "     if((max_col-min_col)!= 0): \n",
        "        x[:,i] = (x[:,i]-min_col)/(max_col-min_col)\n",
        "  return(x,y)\n",
        "\n",
        "  \n",
        "  \n"
      ]
    },
    {
      "cell_type": "code",
      "execution_count": 11,
      "metadata": {
        "id": "q2lFErmVndYv"
      },
      "outputs": [],
      "source": [
        "def grad_desc(x,all_y,num_labels):\n",
        "  alpha = 0.1\n",
        "  num_iter = 1000\n",
        "  m = np.shape(x)[0] #number of training examples\n",
        "  n = np.shape(x)[1]\n",
        "  #theta = np.zeros((np.shape(x)[1],1))\n",
        "  all_theta = np.zeros((n,num_labels))\n",
        "  sum_J=[]\n",
        "  for i in range(num_iter):\n",
        "    hyp = sigmoid_mat(pro(x,all_theta)) # hypothesis\n",
        "\n",
        "    J = (-1/m)*(pro(log_mat(hyp).T,all_y)+pro(log_mat(1-hyp).T,(1-all_y)))\n",
        "    sum_J.append(sum(J))\n",
        "    all_grad = (1/m)*(pro(x.T,(hyp-all_y)))\n",
        "    all_theta -= alpha*all_grad\n",
        "  return(all_theta,sum_J)"
      ]
    },
    {
      "cell_type": "code",
      "execution_count": 12,
      "metadata": {
        "colab": {
          "base_uri": "https://localhost:8080/"
        },
        "id": "aY6Y_MMIr9AL",
        "outputId": "beb75e1a-aba5-41ca-a999-77313eb1117e"
      },
      "outputs": [
        {
          "output_type": "stream",
          "name": "stdout",
          "text": [
            "[[-1.11776906 -1.14675597 -0.5224234  ... -0.9574245  -0.26793173\n",
            "  -0.95271073]\n",
            " [ 0.          0.          0.         ...  0.          0.\n",
            "   0.        ]\n",
            " [ 0.          0.          0.         ...  0.          0.\n",
            "   0.        ]\n",
            " ...\n",
            " [ 0.          0.          0.         ...  0.          0.\n",
            "   0.        ]\n",
            " [ 0.          0.          0.         ...  0.          0.\n",
            "   0.        ]\n",
            " [ 0.          0.          0.         ...  0.          0.\n",
            "   0.        ]]\n"
          ]
        }
      ],
      "source": [
        "Df = pd.read_csv(\"/content/drive/MyDrive/ML/emnist-letters-train.csv\")\n",
        "x, y = clean_dataset(Df)\n",
        "num_labels = 26\n",
        "m = np.shape(x)[0]\n",
        "n = np.shape(x)[1]\n",
        "all_y = np.zeros((m,num_labels))\n",
        "\n",
        "for i in range(num_labels):\n",
        "      y_vec = (y==(i+1))\n",
        "      y_vec = y_vec.astype('int')\n",
        "      all_y[:,i] = y_vec.reshape(m,)\n",
        "\n",
        "all_theta,sum_J = grad_desc(x,all_y,num_labels)\n",
        "print(all_theta)\n",
        "\n",
        "\n"
      ]
    },
    {
      "cell_type": "code",
      "execution_count": 13,
      "metadata": {
        "colab": {
          "base_uri": "https://localhost:8080/"
        },
        "id": "sZ5nizBBPDI2",
        "outputId": "52764113-6ac9-4d04-dda7-520271a22dde"
      },
      "outputs": [
        {
          "output_type": "stream",
          "name": "stdout",
          "text": [
            "[[9.93816537e-02 5.81110434e-03 5.35036240e-07 ... 3.87099205e-01\n",
            "  7.87284959e-03 2.04144619e-03]\n",
            " [4.56945142e-01 5.74736541e-04 1.30821735e-01 ... 1.18616488e-03\n",
            "  5.28449954e-04 1.23105606e-02]\n",
            " [2.14055390e-02 2.14610850e-04 9.70381926e-04 ... 1.92533369e-05\n",
            "  1.06476101e-05 9.81909822e-05]\n",
            " ...\n",
            " [1.48404590e-02 5.18325456e-02 1.24667459e-03 ... 7.86370180e-05\n",
            "  1.18485853e-04 7.44190408e-04]\n",
            " [2.13341267e-02 9.11485790e-02 2.01889193e-02 ... 3.54578122e-03\n",
            "  6.95034990e-03 9.85209384e-03]\n",
            " [2.69494844e-01 1.80815788e-03 1.44018998e-02 ... 3.06185354e-02\n",
            "  2.83440208e-03 5.53735664e-03]]\n",
            "9681\n",
            "5118\n",
            "[[24]\n",
            " [ 1]\n",
            " [17]\n",
            " ...\n",
            " [19]\n",
            " [10]\n",
            " [ 1]]\n",
            "[[ 1]\n",
            " [ 1]\n",
            " [ 1]\n",
            " ...\n",
            " [19]\n",
            " [19]\n",
            " [19]]\n"
          ]
        }
      ],
      "source": [
        "Df_test = pd.read_csv(\"/content/drive/MyDrive/ML/emnist-letters-test.csv\")\n",
        "x1,y1 = clean_dataset(Df_test)\n",
        "pred = sigmoid(pro(x1,all_theta))\n",
        "m = np.shape(pred)[0] #no of examples\n",
        "k = np.shape(all_theta)[1] # no of labels\n",
        "print(pred)\n",
        "p=[]\n",
        "for i in range(m):\n",
        "  vec = list(pred[i,:])\n",
        "  t = vec.index(max(vec)) + 1\n",
        "  p.append(t) # list containing all predictions\n",
        "y_pred = np.array(p)\n",
        "y_pred = y_pred.reshape(np.shape(y1)[0],1)\n",
        "correct,fail = 0,0\n",
        "for j in range(m):\n",
        "  if(y1[j,0] == y_pred[j,0]):\n",
        "    correct +=1\n",
        "  else:\n",
        "    fail +=1\n",
        "print(correct)\n",
        "print(fail)\n",
        "print(y_pred)\n",
        "print(y1)\n",
        "# the accuracy is coming out to be 65% approximately. "
      ]
    }
  ],
  "metadata": {
    "colab": {
      "collapsed_sections": [],
      "name": "Logistic_Reg",
      "provenance": []
    },
    "kernelspec": {
      "display_name": "Python 3",
      "name": "python3"
    },
    "language_info": {
      "name": "python"
    }
  },
  "nbformat": 4,
  "nbformat_minor": 0
}