{
  "cells": [
    {
      "cell_type": "code",
      "execution_count": 1,
      "metadata": {
        "id": "8PPQkYVoRP6h"
      },
      "outputs": [],
      "source": [
        "import numpy as np\n",
        "import pandas as pd\n",
        "from math import sqrt"
      ]
    },
    {
      "cell_type": "code",
      "execution_count": 2,
      "metadata": {
        "id": "4NSCjy3qcAaP"
      },
      "outputs": [],
      "source": [
        "sqrt_mat = np.vectorize(sqrt)\n",
        "def dist(arr1,arr2):\n",
        "  d = np.square((arr1-arr2).T)\n",
        "  d = sum(d) # a 1D array containing the squared distances of point(rep by arr2) from all the points (rep by arr1)\n",
        "  return(list(sqrt_mat(d))) # returning the sqrt of d, it is a list containing the dist of test point from all points in the training data."
      ]
    },
    {
      "cell_type": "code",
      "source": [
        "def get_train_data():\n",
        "  Df_train = pd.read_csv(\"/content/drive/MyDrive/ML/emnist-letters-train.csv\")\n",
        "  x = Df_train.to_numpy()\n",
        "  return(x)\n",
        "  "
      ],
      "metadata": {
        "id": "2LRTCrRSsC9b"
      },
      "execution_count": 3,
      "outputs": []
    },
    {
      "cell_type": "code",
      "execution_count": 4,
      "metadata": {
        "id": "CtbKA8yPRW0y"
      },
      "outputs": [],
      "source": [
        "def KNN(x_test):\n",
        "  x_test = x_test[:,1:np.shape(x_test)[1]]\n",
        "  x = get_train_data()\n",
        "  m1,n1 = np.shape(x_test)\n",
        "  m2,n2 = np.shape(x)\n",
        "  y_pred=[]\n",
        "  for i in range(m1):\n",
        "    y_pred.append(KNN_1D(x_test[i,:],x))\n",
        "  y_pred = np.array(y_pred)\n",
        "  return(y_pred.reshape(m1,1))"
      ]
    },
    {
      "cell_type": "code",
      "source": [
        "def KNN_1D(x1,x):\n",
        "  #here x is the test matrix, x1 is a 1D array representing a point in the test matrix, and k is the value of data points considered for labeling. \n",
        "    n = np.shape(x)[1] \n",
        "    x1 = x1.reshape((1,n-1))\n",
        "    d = dist(x[:,1:n],x1)\n",
        "    d_label=[]\n",
        "    for i in range(len(d)):\n",
        "      d_label.append((d[i],x[i,0]))\n",
        "    d_label.sort()\n",
        "    k_near_nb = d_label[0:6]\n",
        "    lb_list = []\n",
        "    for i in range(len(k_near_nb)):\n",
        "      lb_list.append(k_near_nb[i][1]) # finding out the labels of the nearest neighbours\n",
        "    lb = max(set(lb_list),key=lb_list.count) # finding which label has highest frequency\n",
        "    return(lb)\n",
        "\n",
        "\n",
        "\n"
      ],
      "metadata": {
        "id": "_thlwpljlSe8"
      },
      "execution_count": 5,
      "outputs": []
    },
    {
      "cell_type": "code",
      "execution_count": 6,
      "metadata": {
        "id": "OE6j3wCHc9Ju",
        "colab": {
          "base_uri": "https://localhost:8080/"
        },
        "outputId": "13b8a01f-f0d7-4a8a-8c77-20ff53c293e0"
      },
      "outputs": [
        {
          "output_type": "stream",
          "name": "stdout",
          "text": [
            "12382\n",
            "2417\n",
            "0.8366781539293195\n"
          ]
        }
      ],
      "source": [
        "Df_test = pd.read_csv(\"/content/drive/MyDrive/ML/emnist-letters-test.csv\")\n",
        "x_test= Df_test.to_numpy()\n",
        "y_test = x_test[:,0].reshape((np.shape(x_test)[0],1))\n",
        "y_pred = KNN(x_test)\n",
        "diff = list((y_pred==y_test))\n",
        "pass1 = diff.count(True)\n",
        "fail1 = diff.count(False)\n",
        "print(pass1)\n",
        "print(fail1)\n",
        "print((pass1)/(pass1+fail1))\n"
      ]
    }
  ],
  "metadata": {
    "colab": {
      "collapsed_sections": [],
      "name": "KNN.ipynb",
      "provenance": []
    },
    "kernelspec": {
      "display_name": "Python 3",
      "name": "python3"
    },
    "language_info": {
      "name": "python"
    }
  },
  "nbformat": 4,
  "nbformat_minor": 0
}