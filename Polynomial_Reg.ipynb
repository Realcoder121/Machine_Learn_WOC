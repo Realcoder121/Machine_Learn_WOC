{
  "nbformat": 4,
  "nbformat_minor": 0,
  "metadata": {
    "colab": {
      "name": "Polynomial_Reg.ipynb",
      "provenance": [],
      "collapsed_sections": []
    },
    "kernelspec": {
      "name": "python3",
      "display_name": "Python 3"
    },
    "language_info": {
      "name": "python"
    }
  },
  "cells": [
    {
      "cell_type": "code",
      "execution_count": null,
      "metadata": {
        "id": "tVJU5tniDB9B"
      },
      "outputs": [],
      "source": [
        "import numpy as np\n",
        "import pandas as pd\n",
        "import matplotlib.pyplot as plt\n",
        "from math import sqrt\n"
      ]
    },
    {
      "cell_type": "code",
      "source": [
        "def pro(x,y):\n",
        "  return(np.matmul(x,y))\n",
        "def RMSE(y,y_pred):\n",
        "  s = np.mean(np.square(y-y_pred))\n",
        "  return(sqrt(s))\n",
        "\n"
      ],
      "metadata": {
        "id": "tlmV9bDnTSE3"
      },
      "execution_count": null,
      "outputs": []
    },
    {
      "cell_type": "code",
      "source": [
        "def clean_dataset(Df):\n",
        "  train = Df.to_numpy()\n",
        "  x = train[:,1:4]\n",
        "  m= np.shape(x)[0] #number of training examples\n",
        "  x = np.concatenate((np.ones((m,1)),x),axis =1) #appending x0 = 1\n",
        "  n = np.shape(x)[1]\n",
        "  label = train[:,4] \n",
        "  label = label.reshape((m,1)) #column matrix containing the label\n",
        "  xdash = x\n",
        "  \n",
        "  for i in range(1,4):\n",
        "    for j in range(i,4):\n",
        "        s = ((xdash[:,i])*(xdash[:,j]))\n",
        "        cube_term = (s*xdash[:,j])\n",
        "        s = s.reshape((m,1))\n",
        "        cube_term = cube_term.reshape((m,1))\n",
        "        poly = np.concatenate((s,cube_term),axis=1)\n",
        "        x = np.concatenate((x,poly),axis=1)\n",
        "  n = np.shape(x)[1]\n",
        "  for i in range(1,n):\n",
        "    mean_col = np.mean(x[:,i])\n",
        "    std_dev_col = np.std(x[:,i])\n",
        "    x[:,i] = (x[:,i] - mean_col)/std_dev_col\n",
        "  \n",
        "  \n",
        "  return(x,label)\n",
        "\n",
        "\n"
      ],
      "metadata": {
        "id": "JNPyhv-vTSfc"
      },
      "execution_count": null,
      "outputs": []
    },
    {
      "cell_type": "code",
      "source": [
        "def grad_desc(x,y):\n",
        "  alpha = 0.01\n",
        "  num_iter = 1000\n",
        "  m,n = np.shape(x)\n",
        "  theta = np.zeros((n,1))\n",
        "  J_history,x_label =[],[]\n",
        "  for i in range(num_iter):\n",
        "    hyp = pro(x,theta)\n",
        "    J = (1/(2*m))*(np.sum(np.square(hyp-y)))\n",
        "    J_history.append(J)\n",
        "    x_label.append(i+1)\n",
        "    grad = (1/m)*pro(x.T,(hyp-y))\n",
        "    theta -= alpha*grad\n",
        "  plt.plot(x_label,J_history)\n",
        "  return(theta,plt.show())\n"
      ],
      "metadata": {
        "id": "z_kVHK5pfgsd"
      },
      "execution_count": 20,
      "outputs": []
    },
    {
      "cell_type": "code",
      "source": [
        "Df = pd.read_csv(\"/content/drive/MyDrive/ML/Polynomial_train.csv\")\n",
        "x, y = clean_dataset(Df)\n",
        "theta ,t = grad_desc(x,y)\n",
        "print(t)\n",
        "\n",
        "\n"
      ],
      "metadata": {
        "colab": {
          "base_uri": "https://localhost:8080/",
          "height": 282
        },
        "id": "cNpMnXu1UoIo",
        "outputId": "25cd4b7b-b67b-4db9-f5a2-8ba2e61c5c95"
      },
      "execution_count": 21,
      "outputs": [
        {
          "output_type": "display_data",
          "data": {
            "text/plain": [
              "<Figure size 432x288 with 1 Axes>"
            ],
            "image/png": "[encoded data removed]"
          },
          "metadata": {
            "needs_background": "light"
          }
        },
        {
          "output_type": "stream",
          "name": "stdout",
          "text": [
            "None\n"
          ]
        }
      ]
    },
    {
      "cell_type": "code",
      "source": [
        "test = pd.read_csv(\"/content/drive/MyDrive/ML/Polynomial_test.csv\")\n",
        "x_test,y_test = clean_dataset(test)\n",
        "y_pred = pro(x_test,theta)\n",
        "print(RMSE(y_test,y_pred))\n"
      ],
      "metadata": {
        "colab": {
          "base_uri": "https://localhost:8080/"
        },
        "id": "cZmIC99XhoB-",
        "outputId": "d571ef43-47ef-4383-a1fd-5c415940196a"
      },
      "execution_count": 22,
      "outputs": [
        {
          "output_type": "stream",
          "name": "stdout",
          "text": [
            "10.848025115526319\n"
          ]
        }
      ]
    }
  ]
}