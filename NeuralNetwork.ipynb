{
  "nbformat": 4,
  "nbformat_minor": 0,
  "metadata": {
    "colab": {
      "name": "NeuralNetwork.ipynb",
      "provenance": []
    },
    "kernelspec": {
      "name": "python3",
      "display_name": "Python 3"
    },
    "language_info": {
      "name": "python"
    }
  },
  "cells": [
    {
      "cell_type": "code",
      "execution_count": null,
      "metadata": {
        "id": "SA01136ENGUo"
      },
      "outputs": [],
      "source": [
        "import pandas as pd\n",
        "import numpy as np\n",
        "import math"
      ]
    },
    {
      "cell_type": "code",
      "source": [
        "def get_train_data():\n",
        "  Df = pd.read_csv(\"/content/drive/MyDrive/ML/emnist-letters-train.csv\")\n",
        "  x = Df.to_numpy()\n",
        "  m,n = np.shape(x)\n",
        "  y = x[:,0].reshape((m,1)) # label vector\n",
        "  x = np.concatenate((np.ones((m,1)),x[:,1:n]),axis = 1)# training data represented as a matrix\n",
        "  for i in range(1,n):\n",
        "     min_col = np.min(x[:,i])\n",
        "     max_col = np.max(x[:,i])\n",
        "     if((max_col-min_col)!= 0): \n",
        "        x[:,i] = (x[:,i]-min_col)/(max_col-min_col)\n",
        "  return(x,y)\n",
        "  "
      ],
      "metadata": {
        "id": "rNDZcpoLNQHc"
      },
      "execution_count": 26,
      "outputs": []
    },
    {
      "cell_type": "code",
      "source": [
        "def pro(x,y):\n",
        "  return(np.matmul(x,y))\n",
        "def sigmoid(a):\n",
        "  e = round(math.e,2)\n",
        "  a = 1/(1+(e)**(-a))\n",
        "  return(a)\n",
        "sigmoid_mat = np.vectorize(sigmoid)\n",
        "  "
      ],
      "metadata": {
        "id": "1lL2qnXIHOxD"
      },
      "execution_count": 43,
      "outputs": []
    },
    {
      "cell_type": "code",
      "source": [
        "def NN_train1(a,label,theta1,D1,m):\n",
        "  n = len(a)\n",
        "  y = np.zeros((26,1))\n",
        "  y[label-1] = 1\n",
        "  alpha = 0.01\n",
        "  #forward propagation\n",
        "  input_l = a.reshape((n,1))\n",
        "  out_l = sigmoid_mat(pro(theta1,input_l))\n",
        "  # backpropagation\n",
        "  del_out = out_l - y\n",
        "  D1 += (pro(del_out,input_l.T))/m\n",
        "  theta1 -= alpha*D1\n",
        "  return(D1,theta1)\n",
        "\n",
        "\n"
      ],
      "metadata": {
        "id": "wBZHS6TnRgQ2"
      },
      "execution_count": 44,
      "outputs": []
    },
    {
      "cell_type": "code",
      "source": [
        "def NN_test1(theta1,a,lb):\n",
        "  n = len(a)\n",
        "  input_l = a.reshape((n,1))\n",
        "  out_l = list(sigmoid_mat(pro(theta1,input_l)))\n",
        "  lb_pred = out_l.index(max(out_l)) + 1\n",
        "  if (lb_pred == lb):\n",
        "    return(True)\n",
        "  else:\n",
        "    return(False)\n"
      ],
      "metadata": {
        "id": "hiVVjvcAU0cR"
      },
      "execution_count": 45,
      "outputs": []
    },
    {
      "cell_type": "code",
      "source": [
        "x,y = get_train_data()\n",
        "m,n = np.shape(x)\n",
        "theta1,D1 = np.zeros((26,785)),np.zeros((26,785))\n",
        "for i in range(m):\n",
        "  lb = y[i,0]\n",
        "  theta1,D1 = NN_train1(x[i,:],lb,theta1,D1,m)\n",
        "s,f = 0,0\n",
        "for i in range(100):\n",
        "  if(NN_test1(theta1,x[i,:],y[i,0])):\n",
        "    s +=1\n",
        "  else:\n",
        "    f +=1\n",
        "print(s)\n",
        "print(f)\n",
        "print(s/(s+f))"
      ],
      "metadata": {
        "id": "gfqbhGJ3UDQB"
      },
      "execution_count": null,
      "outputs": []
    },
    {
      "cell_type": "code",
      "source": [
        "def NN_train(a,label,theta1,theta2): # a is a 1D slice of the rows of x, the algorithm will be applied on each data point separately.\n",
        "  n = len(a)\n",
        "  y = np.zeros((26,1))\n",
        "  y[label-1] = 1\n",
        "  alpha = 0.1 # learning rate\n",
        "  #theta1,theta2 = np.zeros((405,n)),np.zeros((26,406)) \n",
        "  # the NN contains one hidden layer with 406 units(including bias), the input layer will take in the values of pixels(785 including bias unit) and the output\n",
        "  #layer has 26 units that give the label of the input data point. theta1 represents the matrix of weights from input layer to hidden layer and theta2 \n",
        "  # the matrix of weights from hidden layer to output layer.\n",
        "\n",
        "  #forward propagation\n",
        "  input_l = a.reshape((n,1))\n",
        "  hid_l = sigmoid_mat(pro(theta1,input_l))\n",
        "  hid_l = np.concatenate((np.array([[1]]),hid_l),axis = 0)\n",
        "  out_l = sigmoid_mat(pro(theta2,hid_l))\n",
        " \n",
        "  #backpropagation\n",
        "  del_out = out_l - y\n",
        "  del_h = pro(theta2.T,del_out)*(hid_l)*(1-hid_l)\n",
        "  theta2 += pro(del_out,hid_l.T)\n",
        "  theta1 += pro(del_h,input_l.T)\n",
        "  D1,D2 = theta1/n,theta2/n\n",
        "  theta1 -= alpha*D1\n",
        "  theta2 -= alpha*D2\n",
        "  return(theta1,theta2)\n",
        "\n"
      ],
      "metadata": {
        "id": "qil7GdgC-Q_C"
      },
      "execution_count": null,
      "outputs": []
    },
    {
      "cell_type": "code",
      "source": [
        "def NN_test(theta1,theta2,a,lb):\n",
        "  input_l = a.reshape((n,1))\n",
        "  hid_l = sigmoid_mat(pro(theta1,input_l))\n",
        "  hid_l = np.concatenate((np.array([[1]]),hid_l),axis = 0)\n",
        "  out_l = sigmoid_mat(pro(theta2,hid_l))\n",
        "  out_l = list(out_l)\n",
        "  lb_pred = out_l.index(max(out_l)) + 1\n",
        "  if (lb_pred == lb):\n",
        "    return('Success')\n",
        "  else:\n",
        "    return('Failure')\n"
      ],
      "metadata": {
        "id": "3eGwR_le8I11"
      },
      "execution_count": null,
      "outputs": []
    },
    {
      "cell_type": "code",
      "source": [
        "x,y = get_train_data()\n",
        "m,n = np.shape(x)\n",
        "theta1,theta2 = np.zeros((405,n)),np.zeros((26,406))\n",
        "for i in range(m):\n",
        "  lb = y[i]\n",
        "  theta1,theta2 = NN_train(x[i,:],lb,theta1,theta2)\n",
        "print(NN_test(theta1,theta2,x[5,:],y[5]))"
      ],
      "metadata": {
        "id": "1vLbJg4YLZyT"
      },
      "execution_count": null,
      "outputs": []
    },
    {
      "cell_type": "code",
      "source": [
        ""
      ],
      "metadata": {
        "id": "PS_53nlkLaQG"
      },
      "execution_count": null,
      "outputs": []
    },
    {
      "cell_type": "code",
      "source": [
        ""
      ],
      "metadata": {
        "id": "uU_M5HJgLaWL"
      },
      "execution_count": null,
      "outputs": []
    },
    {
      "cell_type": "code",
      "source": [
        ""
      ],
      "metadata": {
        "id": "mMi-BVU_Lacy"
      },
      "execution_count": null,
      "outputs": []
    },
    {
      "cell_type": "code",
      "source": [
        ""
      ],
      "metadata": {
        "id": "bOfcPpMnLah4"
      },
      "execution_count": null,
      "outputs": []
    }
  ]
}