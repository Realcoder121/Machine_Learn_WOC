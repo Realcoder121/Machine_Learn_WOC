{
  "cells": [
    {
      "cell_type": "code",
      "execution_count": 1,
      "metadata": {
        "id": "0bbe8567"
      },
      "outputs": [],
      "source": [
        "# K Means Mapping Library"
      ],
      "id": "0bbe8567"
    },
    {
      "cell_type": "code",
      "execution_count": 2,
      "metadata": {
        "id": "ac3233f8"
      },
      "outputs": [],
      "source": [
        "import numpy as np\n",
        "import pandas as pd\n",
        "from math import sqrt\n",
        "import math\n",
        "import random"
      ],
      "id": "ac3233f8"
    },
    {
      "cell_type": "code",
      "execution_count": 3,
      "metadata": {
        "id": "48c682cf"
      },
      "outputs": [],
      "source": [
        "def dist(arr1,arr2): # arr1 and arr2 are 1d arrays representing one centroid point and one data point respectively\n",
        "  d = np.sum(np.square(arr1[1:]-arr2[1:]))\n",
        "  return(sqrt(d))\n",
        "  "
      ],
      "id": "48c682cf"
    },
    {
      "cell_type": "code",
      "execution_count": 4,
      "metadata": {
        "id": "-nNqCcX2RIYz"
      },
      "outputs": [],
      "source": [
        "def dist_cent(list_cent,point): # list of centroids represented as a list of  1D arrays and point represented by a 1D array\n",
        "   dist_list = [(dist(i,point),i[0]) for i in list_cent] # a list of (dist,label) for each centroid point\n",
        "   lb1 = int(min(dist_list)[1]) # label of the centroid nearest to the point\n",
        "   lb2 = dist_list.index(min(dist_list)) # index of the centroid nearest to the point.\n",
        "   return(lb1,lb2)\n"
      ],
      "id": "-nNqCcX2RIYz"
    },
    {
      "cell_type": "code",
      "execution_count": 5,
      "metadata": {
        "id": "5f8c22aa"
      },
      "outputs": [],
      "source": [
        "def calc_mean(list_arr):# function that takes a list of arrays containing a set of coordinates and returns their mean\n",
        "    centroid = sum(list_arr)/len(list_arr)\n",
        "    centroid[0] = int(list_arr[0][0])\n",
        "    return(centroid)"
      ],
      "id": "5f8c22aa"
    },
    {
      "cell_type": "code",
      "execution_count": 6,
      "metadata": {
        "id": "ZwVGXwYwplt3"
      },
      "outputs": [],
      "source": [
        "def get_train_data():\n",
        "  Df_train = pd.read_csv(\"/content/drive/MyDrive/ML/emnist-letters-train.csv\")\n",
        "  x= Df_train.to_numpy()\n",
        "  return(x)\n"
      ],
      "id": "ZwVGXwYwplt3"
    },
    {
      "cell_type": "code",
      "execution_count": 7,
      "metadata": {
        "id": "xvORoKUGnX4m"
      },
      "outputs": [],
      "source": [
        "def get_centroid_list(x): # function that generates a list of random data points as initial centroids\n",
        "   m= np.shape(x)[0]\n",
        "   rand_index = random.sample(range(m),26)\n",
        "   cent_list = [x[i,:] for i in rand_index]\n",
        "   return(cent_list)\n",
        "   "
      ],
      "id": "xvORoKUGnX4m"
    },
    {
      "cell_type": "code",
      "execution_count": 8,
      "metadata": {
        "id": "LAP1bejY4ZYq"
      },
      "outputs": [],
      "source": [
        "def K_Means_Map(x,centroids):\n",
        "  m,n = np.shape(x)\n",
        "  category = [[i] for i in centroids] # list of k lists containing each cluster\n",
        "  category_with_labels, real_labels = [[i[0]]for i in centroids],[[i[0]] for i in centroids]\n",
        "  for i in range(m):\n",
        "    lb1, lb2 = dist_cent(centroids,x[i,:]) # finding out the label of the centroid that is nearest to the test data point.\n",
        "    category[lb2].append(x[i,:]) # appending the data point to the list of the centroid which is nearest to it. \n",
        "    category_with_labels[lb2].append(lb1)\n",
        "    real_labels[lb2].append(x[i,0])\n",
        "  for i in range(len(category)):\n",
        "    centroids[i] = calc_mean(category[i]) \n",
        "  return(category_with_labels,real_labels,centroids)\n",
        "\n",
        "    \n",
        "\n",
        "\n",
        "\n",
        "\n",
        "  \n",
        "  \n",
        "  \n",
        "\n"
      ],
      "id": "LAP1bejY4ZYq"
    },
    {
      "cell_type": "code",
      "execution_count": 11,
      "metadata": {
        "colab": {
          "base_uri": "https://localhost:8080/"
        },
        "id": "6NV4XcBByeyt",
        "outputId": "4cad77d2-e642-48c0-ef09-e59f610e7d0a"
      },
      "outputs": [
        {
          "output_type": "stream",
          "name": "stdout",
          "text": [
            "23.985364480720516\n",
            "25.5311004784689\n",
            "25.0458767238953\n",
            "24.58879819870532\n",
            "24.311849141570505\n"
          ]
        }
      ],
      "source": [
        "num_iter = 5\n",
        "x = get_train_data()\n",
        "centroids = get_centroid_list(x)\n",
        "for i in range(num_iter):\n",
        "  pred_cluster,real_cluster,centroids = K_Means_Map(x,centroids)\n",
        "  s,f = 0,0\n",
        "  for j in range(len(pred_cluster)):\n",
        "    for t in range(len(pred_cluster[j])):\n",
        "      if(pred_cluster[j][t]==real_cluster[j][t]):\n",
        "        s += 1\n",
        "      else:\n",
        "        f +=1\n",
        "  print((s/(s+f))*100)\n",
        "  \n",
        "    \n",
        "  "
      ],
      "id": "6NV4XcBByeyt"
    },
    {
      "cell_type": "markdown",
      "source": [
        ""
      ],
      "metadata": {
        "id": "uaZENvEH7X-9"
      },
      "id": "uaZENvEH7X-9"
    },
    {
      "cell_type": "code",
      "execution_count": 10,
      "metadata": {
        "colab": {
          "base_uri": "https://localhost:8080/"
        },
        "id": "2W_y-OrbFy_b",
        "outputId": "9c06d34f-e437-4d7f-debf-b14ecb97a4c9"
      },
      "outputs": [
        {
          "output_type": "stream",
          "name": "stdout",
          "text": [
            "Mounted at /content/drive\n"
          ]
        }
      ],
      "source": [
        "from google.colab import drive\n",
        "drive.mount('/content/drive')"
      ],
      "id": "2W_y-OrbFy_b"
    }
  ],
  "metadata": {
    "colab": {
      "name": "K-Means Mapping.ipynb",
      "provenance": [],
      "collapsed_sections": []
    },
    "kernelspec": {
      "display_name": "Python 3 (ipykernel)",
      "language": "python",
      "name": "python3"
    },
    "language_info": {
      "codemirror_mode": {
        "name": "ipython",
        "version": 3
      },
      "file_extension": ".py",
      "mimetype": "text/x-python",
      "name": "python",
      "nbconvert_exporter": "python",
      "pygments_lexer": "ipython3",
      "version": "3.10.1"
    }
  },
  "nbformat": 4,
  "nbformat_minor": 5
}